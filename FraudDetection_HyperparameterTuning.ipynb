{
 "cells": [
  {
   "cell_type": "code",
   "execution_count": 17,
   "metadata": {
    "colab": {
     "base_uri": "https://localhost:8080/",
     "height": 52
    },
    "colab_type": "code",
    "executionInfo": {
     "elapsed": 836,
     "status": "ok",
     "timestamp": 1572845276410,
     "user": {
      "displayName": "Ishani Udaykant Shah",
      "photoUrl": "",
      "userId": "12064188275187263360"
     },
     "user_tz": 420
    },
    "id": "w1hDk9hDvOH7",
    "outputId": "95185fe0-e058-4f6f-87aa-5934b5b0498a"
   },
   "outputs": [
    {
     "name": "stdout",
     "output_type": "stream",
     "text": [
      "Drive already mounted at /gdrive; to attempt to forcibly remount, call drive.mount(\"/gdrive\", force_remount=True).\n",
      "/gdrive\n"
     ]
    }
   ],
   "source": [
    "import pandas as pd\n",
    "from sklearn.preprocessing import label_binarize\n",
    "import numpy as np\n",
    "from sklearn.model_selection import train_test_split\n",
    "from sklearn.ensemble import RandomForestClassifier\n",
    "from sklearn.tree import DecisionTreeClassifier\n",
    "from sklearn.model_selection import GridSearchCV\n",
    "from sklearn.model_selection import RandomizedSearchCV\n",
    "from sklearn.model_selection import cross_val_score\n",
    "from sklearn.metrics import classification_report, confusion_matrix\n",
    "from sklearn.ensemble import GradientBoostingClassifier\n",
    "\n",
    "import warnings\n",
    "warnings.filterwarnings(\"ignore\")\n",
    "#Please ignore the warnings with version change\n",
    "\n",
    "from google.colab import drive\n",
    "drive.mount('/gdrive')\n",
    "#Change current working directory to gdrive\n",
    "%cd /gdrive\n",
    "\n"
   ]
  },
  {
   "cell_type": "code",
   "execution_count": 18,
   "metadata": {
    "colab": {
     "base_uri": "https://localhost:8080/",
     "height": 329
    },
    "colab_type": "code",
    "executionInfo": {
     "elapsed": 1114,
     "status": "ok",
     "timestamp": 1572845276713,
     "user": {
      "displayName": "Ishani Udaykant Shah",
      "photoUrl": "",
      "userId": "12064188275187263360"
     },
     "user_tz": 420
    },
    "id": "fZHwxW_jAIaa",
    "outputId": "00280ec5-c1d3-415e-e2da-efa6ff631938"
   },
   "outputs": [
    {
     "name": "stdout",
     "output_type": "stream",
     "text": [
      "(2999, 32)\n",
      "(12918, 32)\n",
      "  MONTH  WEEKOFMONTH  DAYOFWEEK  ...  YEAR  BASEPOLICY FRAUDFOUND\n",
      "0   Jul            3     Sunday  ...  1994   Collision        Yes\n",
      "1   Nov            5     Monday  ...  1994  All_Perils        Yes\n",
      "2   Jan            1     Monday  ...  1994  All_Perils        Yes\n",
      "3   Dec            1     Monday  ...  1994  All_Perils        Yes\n",
      "4   Dec            5  Wednesday  ...  1994   Collision        Yes\n",
      "\n",
      "[5 rows x 32 columns]\n",
      "  MONTH  WEEKOFMONTH  DAYOFWEEK  ...  YEAR  BASEPOLICY FRAUDFOUND\n",
      "0   Jul            3     Sunday  ...  1994   Collision        Yes\n",
      "1   Nov            5     Monday  ...  1994  All_Perils        Yes\n",
      "2   Jan            1     Monday  ...  1994  All_Perils        Yes\n",
      "3   Dec            1     Monday  ...  1994  All_Perils        Yes\n",
      "4   Dec            5  Wednesday  ...  1994   Collision        Yes\n",
      "\n",
      "[5 rows x 32 columns]\n"
     ]
    }
   ],
   "source": [
    "trainfile = r'/gdrive/My Drive/FraudDetection/Insurance Fraud - TRAIN-3000(1).csv'\n",
    "trainData = pd.read_csv(trainfile) #creates a dataframe\n",
    "testfile = r'/gdrive/My Drive/FraudDetection/Insurance Fraud -TEST-12900(1).csv'\n",
    "testData = pd.read_csv(testfile) #creates a dataframe\n",
    "\n",
    "#print sizes (shape) of datasets\n",
    "print(trainData.shape)\n",
    "print(testData.shape)\n",
    "\n",
    "print(trainData.head())\n",
    "print(testData.head())"
   ]
  },
  {
   "cell_type": "code",
   "execution_count": 19,
   "metadata": {
    "colab": {
     "base_uri": "https://localhost:8080/",
     "height": 295
    },
    "colab_type": "code",
    "executionInfo": {
     "elapsed": 1270,
     "status": "ok",
     "timestamp": 1572845276886,
     "user": {
      "displayName": "Ishani Udaykant Shah",
      "photoUrl": "",
      "userId": "12064188275187263360"
     },
     "user_tz": 420
    },
    "id": "WFkDJF2oLiUD",
    "outputId": "5db72b9e-578a-49a4-bbec-b7e7db3d63ee"
   },
   "outputs": [
    {
     "name": "stdout",
     "output_type": "stream",
     "text": [
      "  MONTH  WEEKOFMONTH  DAYOFWEEK  ... NUMBEROFCARS  YEAR  BASEPOLICY\n",
      "0   Jul            3     Sunday  ...    1-vehicle  1994   Collision\n",
      "1   Nov            5     Monday  ...    1-vehicle  1994  All_Perils\n",
      "2   Jan            1     Monday  ...    1-vehicle  1994  All_Perils\n",
      "3   Dec            1     Monday  ...   2-vehicles  1994  All_Perils\n",
      "4   Dec            5  Wednesday  ...    1-vehicle  1994   Collision\n",
      "\n",
      "[5 rows x 31 columns]\n",
      "  MONTH  WEEKOFMONTH  DAYOFWEEK  ... NUMBEROFCARS  YEAR  BASEPOLICY\n",
      "0   Jul            3     Sunday  ...    1-vehicle  1994   Collision\n",
      "1   Nov            5     Monday  ...    1-vehicle  1994  All_Perils\n",
      "2   Jan            1     Monday  ...    1-vehicle  1994  All_Perils\n",
      "3   Dec            1     Monday  ...   2-vehicles  1994  All_Perils\n",
      "4   Dec            5  Wednesday  ...    1-vehicle  1994   Collision\n",
      "\n",
      "[5 rows x 31 columns]\n"
     ]
    }
   ],
   "source": [
    "#Copy Train and Test data excluding target\n",
    "trainData_Copy = trainData.iloc[:, :-1].copy()\n",
    "testData_Copy = testData.iloc[:, :-1].copy()\n",
    "\n",
    "print(trainData_Copy.head())\n",
    "print(testData_Copy.head())"
   ]
  },
  {
   "cell_type": "code",
   "execution_count": 20,
   "metadata": {
    "colab": {
     "base_uri": "https://localhost:8080/",
     "height": 55
    },
    "colab_type": "code",
    "executionInfo": {
     "elapsed": 1256,
     "status": "ok",
     "timestamp": 1572845276888,
     "user": {
      "displayName": "Ishani Udaykant Shah",
      "photoUrl": "",
      "userId": "12064188275187263360"
     },
     "user_tz": 420
    },
    "id": "3f5_SJZLXJnR",
    "outputId": "3c634b33-4417-49bb-e3a1-c8ff60055084"
   },
   "outputs": [
    {
     "name": "stdout",
     "output_type": "stream",
     "text": [
      "['MONTH', 'WEEKOFMONTH', 'DAYOFWEEK', 'MAKE', 'ACCIDENTAREA', 'DAYOFWEEKCLAIMED', 'MONTHCLAIMED', 'WEEKOFMONTHCLAIMED', 'SEX', 'MARITALSTATUS', 'FAULT', 'POLICYTYPE', 'VEHICLECATEGORY', 'VEHICLEPRICE', 'REPNUMBER', 'DEDUCTIBLE', 'DRIVERRATING', 'DAYS_POLICY_ACCIDENT', 'DAYS_POLICY_CLAIM', 'PASTNUMBEROFCLAIMS', 'AGEOFVEHICLE', 'AGEOFPOLICYHOLDER', 'POLICEREPORTFILED', 'WITNESSPRESENT', 'AGENTTYPE', 'NUMBEROFSUPPLIMENTS', 'ADDRESSCHANGE_CLAIM', 'NUMBEROFCARS', 'YEAR', 'BASEPOLICY']\n"
     ]
    }
   ],
   "source": [
    "#List of Categorical Features\n",
    "categoricalFeatures = []\n",
    "for col in trainData_Copy.columns:\n",
    "  if col in testData_Copy.columns:\n",
    "    categoricalFeatures.append(col)\n",
    "#Removing age from categorical features as it does not add value\n",
    "categoricalFeatures.remove(\"AGE\")\n",
    "print (categoricalFeatures)"
   ]
  },
  {
   "cell_type": "code",
   "execution_count": 21,
   "metadata": {
    "colab": {
     "base_uri": "https://localhost:8080/",
     "height": 312
    },
    "colab_type": "code",
    "executionInfo": {
     "elapsed": 1515,
     "status": "ok",
     "timestamp": 1572845277166,
     "user": {
      "displayName": "Ishani Udaykant Shah",
      "photoUrl": "",
      "userId": "12064188275187263360"
     },
     "user_tz": 420
    },
    "id": "LxGy4Nht4L9j",
    "outputId": "8fcd4a4a-8412-4330-ecfc-25a07c72f938"
   },
   "outputs": [
    {
     "name": "stdout",
     "output_type": "stream",
     "text": [
      "----------------------------------------------------------------\n",
      "   AGE  MONTH_Apr  ...  BASEPOLICY_Collision  BASEPOLICY_Liability\n",
      "0   21          0  ...                     1                     0\n",
      "1   68          0  ...                     0                     0\n",
      "2   50          0  ...                     0                     0\n",
      "3   39          0  ...                     0                     0\n",
      "4   43          0  ...                     1                     0\n",
      "\n",
      "[5 rows x 175 columns]\n",
      "   AGE  MONTH_Apr  ...  BASEPOLICY_Collision  BASEPOLICY_Liability\n",
      "0   21          0  ...                     1                     0\n",
      "1   68          0  ...                     0                     0\n",
      "2   50          0  ...                     0                     0\n",
      "3   39          0  ...                     0                     0\n",
      "4   43          0  ...                     1                     0\n",
      "\n",
      "[5 rows x 175 columns]\n"
     ]
    }
   ],
   "source": [
    "#Combine Train and test for one Hot Encoding\n",
    "combined_Data = pd.concat([trainData_Copy,testData_Copy], keys=[0,1])\n",
    "\n",
    "#Do one Hot encoding for categorical features\n",
    "combined_Data = pd.get_dummies(combined_Data,columns=categoricalFeatures)\n",
    "\n",
    "#Separate Train data and test data\n",
    "X_train = combined_Data.xs(0)\n",
    "X_test = combined_Data.xs(1)\n",
    "\n",
    "print('----------------------------------------------------------------')\n",
    "print(X_train.head())\n",
    "print(X_test.head())"
   ]
  },
  {
   "cell_type": "code",
   "execution_count": 22,
   "metadata": {
    "colab": {
     "base_uri": "https://localhost:8080/",
     "height": 225
    },
    "colab_type": "code",
    "executionInfo": {
     "elapsed": 1496,
     "status": "ok",
     "timestamp": 1572845277167,
     "user": {
      "displayName": "Ishani Udaykant Shah",
      "photoUrl": "",
      "userId": "12064188275187263360"
     },
     "user_tz": 420
    },
    "id": "hzWpUuNaAmlh",
    "outputId": "2e9f4712-44e7-43ac-e989-e0a77358075e"
   },
   "outputs": [
    {
     "name": "stdout",
     "output_type": "stream",
     "text": [
      "0    Yes\n",
      "1    Yes\n",
      "2    Yes\n",
      "3    Yes\n",
      "4    Yes\n",
      "Name: FRAUDFOUND, dtype: object\n",
      "0    Yes\n",
      "1    Yes\n",
      "2    Yes\n",
      "3    Yes\n",
      "4    Yes\n",
      "Name: FRAUDFOUND, dtype: object\n"
     ]
    }
   ],
   "source": [
    "#Extracting target column for training and test\n",
    "y_train = trainData.iloc[:,-1]\n",
    "print(y_train.head())\n",
    "y_test = testData.iloc[:,-1]\n",
    "print(y_test.head())\n",
    "\n",
    "\n"
   ]
  },
  {
   "cell_type": "code",
   "execution_count": 23,
   "metadata": {
    "colab": {
     "base_uri": "https://localhost:8080/",
     "height": 260
    },
    "colab_type": "code",
    "executionInfo": {
     "elapsed": 2311,
     "status": "ok",
     "timestamp": 1572845277999,
     "user": {
      "displayName": "Ishani Udaykant Shah",
      "photoUrl": "",
      "userId": "12064188275187263360"
     },
     "user_tz": 420
    },
    "id": "Nna_UI7FAvbF",
    "outputId": "65ebe460-3731-474d-fefc-8eacd7e07ea0"
   },
   "outputs": [
    {
     "name": "stdout",
     "output_type": "stream",
     "text": [
      "accuracy Score (testing) for Decision Tree:0.890386\n",
      "Confusion Matrix for Decision Tree\n",
      "[[11062  1358]\n",
      " [   58   440]]\n",
      "=== Classification Report ===\n",
      "              precision    recall  f1-score   support\n",
      "\n",
      "          No       0.99      0.89      0.94     12420\n",
      "         Yes       0.24      0.88      0.38       498\n",
      "\n",
      "    accuracy                           0.89     12918\n",
      "   macro avg       0.62      0.89      0.66     12918\n",
      "weighted avg       0.97      0.89      0.92     12918\n",
      "\n"
     ]
    }
   ],
   "source": [
    "#CONSTRUCT DEFAULT DECISION TREE AND OBTAIN RESPECTIVE ACCURACY \n",
    "clf = DecisionTreeClassifier()\n",
    "clf.fit(X_train, y_train)\n",
    "clf_predict=clf.predict(X_test)\n",
    "print(\"accuracy Score (testing) for Decision Tree:{0:6f}\".format(clf.score(X_test,y_test)))\n",
    "print(\"Confusion Matrix for Decision Tree\")\n",
    "print(confusion_matrix(y_test,clf_predict))\n",
    "print(\"=== Classification Report ===\")\n",
    "print(classification_report(y_test,clf_predict))\n",
    "\n"
   ]
  },
  {
   "cell_type": "code",
   "execution_count": 24,
   "metadata": {
    "colab": {
     "base_uri": "https://localhost:8080/",
     "height": 87
    },
    "colab_type": "code",
    "executionInfo": {
     "elapsed": 21006,
     "status": "ok",
     "timestamp": 1572845296724,
     "user": {
      "displayName": "Ishani Udaykant Shah",
      "photoUrl": "",
      "userId": "12064188275187263360"
     },
     "user_tz": 420
    },
    "id": "HjJt_FLdA2mF",
    "outputId": "adbfa5e0-81b3-433f-b886-15304854eecf"
   },
   "outputs": [
    {
     "name": "stdout",
     "output_type": "stream",
     "text": [
      "RandomizedSearchCV-Decision tree\n",
      "{'min_samples_leaf': 90, 'max_depth': 30, 'criterion': 'entropy'}\n",
      "GridSearchCV-Decision tree\n",
      "{'criterion': 'entropy', 'max_depth': 5, 'min_samples_leaf': 90}\n"
     ]
    }
   ],
   "source": [
    "#Hyperparameter tuning done for decision tree classifier\n",
    "#RANDOM SEARCH--------------------------------------------\n",
    "print(\"RandomizedSearchCV-Decision tree\")\n",
    "parameters={'min_samples_leaf' : range(10,200,10),\n",
    "            'max_depth': range(5,40,5),\n",
    "            'criterion':['gini','entropy']\n",
    "            }\n",
    "clf_random = RandomizedSearchCV(clf,parameters,n_iter=20,cv=10)\n",
    "clf_random.fit(X_train, y_train)\n",
    "grid_parm=clf_random.best_params_\n",
    "print(grid_parm)\n",
    "\n",
    "#GRID SEARCH----------------------------------------\n",
    "print(\"GridSearchCV-Decision tree\")\n",
    "clf_grid = GridSearchCV(clf,parameters)\n",
    "clf_grid.fit(X_train, y_train)\n",
    "grid_parm1=clf_grid.best_params_\n",
    "print(grid_parm1)\n",
    "\n"
   ]
  },
  {
   "cell_type": "code",
   "execution_count": 25,
   "metadata": {
    "colab": {
     "base_uri": "https://localhost:8080/",
     "height": 572
    },
    "colab_type": "code",
    "executionInfo": {
     "elapsed": 22468,
     "status": "ok",
     "timestamp": 1572845298203,
     "user": {
      "displayName": "Ishani Udaykant Shah",
      "photoUrl": "",
      "userId": "12064188275187263360"
     },
     "user_tz": 420
    },
    "id": "wPnvVEwhA7bo",
    "outputId": "11b82c2a-be9f-4aef-acd1-4c77044314c8"
   },
   "outputs": [
    {
     "name": "stdout",
     "output_type": "stream",
     "text": [
      "accuracy Score (testing) after hypertuning randomized search for Decision Tree:0.882877\n",
      "accuracy Score (testing) after hypertuning grid search for Decision Tree:0.882877\n",
      "Confusion Matrix after Random hypertuning for Decision Tree (Testing)\n",
      "[[11270  1150]\n",
      " [  363   135]]\n",
      "=== Classification Report for Random hypertesting (Testing)  ===\n",
      "              precision    recall  f1-score   support\n",
      "\n",
      "          No       0.97      0.91      0.94     12420\n",
      "         Yes       0.11      0.27      0.15       498\n",
      "\n",
      "    accuracy                           0.88     12918\n",
      "   macro avg       0.54      0.59      0.54     12918\n",
      "weighted avg       0.94      0.88      0.91     12918\n",
      "\n",
      "Confusion Matrix after Grid hypertuning for Decision Tree (Testing)\n",
      "[[11270  1150]\n",
      " [  363   135]]\n",
      "=== Classification Report for Grid hypertesting (Testing)  ===\n",
      "              precision    recall  f1-score   support\n",
      "\n",
      "          No       0.97      0.91      0.94     12420\n",
      "         Yes       0.11      0.27      0.15       498\n",
      "\n",
      "    accuracy                           0.88     12918\n",
      "   macro avg       0.54      0.59      0.54     12918\n",
      "weighted avg       0.94      0.88      0.91     12918\n",
      "\n",
      "[0.77980769 0.76153846 0.75865385 0.7125     0.6        0.5\n",
      " 0.5        0.5        0.5375     0.6025641 ]\n",
      "\n",
      "\n"
     ]
    }
   ],
   "source": [
    "#Using the parameters obtained from HyperParameterTuning in the DecisionTreeClassifier \n",
    "clf = DecisionTreeClassifier(**grid_parm)\n",
    "clfr = DecisionTreeClassifier(**grid_parm1)\n",
    "\n",
    "clf.fit(X_train,y_train)\n",
    "clf_predict = clf.predict(X_test)\n",
    "clfr.fit(X_train,y_train)\n",
    "clfr_predict = clfr.predict(X_test)\n",
    "\n",
    "\n",
    "#Obtain accuracy ,confusion matrix,classification report and AUC values for the result above.\n",
    "print(\"accuracy Score (testing) after hypertuning randomized search for Decision Tree:{0:6f}\".format(clf.score(X_test,y_test)))\n",
    "print(\"accuracy Score (testing) after hypertuning grid search for Decision Tree:{0:6f}\".format(clfr.score(X_test,y_test)))\n",
    "print(\"Confusion Matrix after Random hypertuning for Decision Tree (Testing)\")\n",
    "print(confusion_matrix(y_test,clf_predict))\n",
    "print(\"=== Classification Report for Random hypertesting (Testing)  ===\")\n",
    "print(classification_report(y_test,clf_predict))\n",
    "print(\"Confusion Matrix after Grid hypertuning for Decision Tree (Testing)\")\n",
    "print(confusion_matrix(y_test,clfr_predict))\n",
    "print(\"=== Classification Report for Grid hypertesting (Testing)  ===\")\n",
    "print(classification_report(y_test,clfr_predict))\n",
    "\n",
    "clf_cv_score = cross_val_score(clf, X_train, y_train, cv=15, scoring=\"balanced_accuracy\")\n",
    "print(clf_cv_score)\n",
    "print('\\n')\n",
    "\n",
    "\n"
   ]
  },
  {
   "cell_type": "code",
   "execution_count": 34,
   "metadata": {
    "colab": {
     "base_uri": "https://localhost:8080/",
     "height": 260
    },
    "colab_type": "code",
    "executionInfo": {
     "elapsed": 1383,
     "status": "ok",
     "timestamp": 1572846223375,
     "user": {
      "displayName": "Ishani Udaykant Shah",
      "photoUrl": "",
      "userId": "12064188275187263360"
     },
     "user_tz": 420
    },
    "id": "UCr31wlFBEGR",
    "outputId": "9355ca31-3545-4242-d11e-d25457319c8c"
   },
   "outputs": [
    {
     "name": "stdout",
     "output_type": "stream",
     "text": [
      "accuracy Score (testing) for Default Random Forest:0.957966\n",
      "Confusion Matrix for Default Random Forest (testing):\n",
      "[[11988   432]\n",
      " [  111   387]]\n",
      "=== Classification Report for Default Random Forest(Testing)  ===\n",
      "              precision    recall  f1-score   support\n",
      "\n",
      "          No       0.99      0.97      0.98     12420\n",
      "         Yes       0.47      0.78      0.59       498\n",
      "\n",
      "    accuracy                           0.96     12918\n",
      "   macro avg       0.73      0.87      0.78     12918\n",
      "weighted avg       0.97      0.96      0.96     12918\n",
      "\n"
     ]
    }
   ],
   "source": [
    "#Normal randomforest\n",
    "rand_parameters={'min_samples_leaf' : range(10,200,10),\n",
    "                 'max_depth': range(1,20,2),\n",
    "                 'max_features':range(10,100,10),\n",
    "                 'n_estimators':[20,30,40]}\n",
    "rfc = RandomForestClassifier()\n",
    "rfc.fit(X_train, y_train)\n",
    "rfc_predict=rfc.predict(X_test)\n",
    "print(\"accuracy Score (testing) for Default Random Forest:{0:6f}\".format(rfc.score(X_test,y_test)))\n",
    "print(\"Confusion Matrix for Default Random Forest (testing):\")\n",
    "print(confusion_matrix(y_test,rfc_predict))\n",
    "print(\"=== Classification Report for Default Random Forest(Testing)  ===\")\n",
    "print(classification_report(y_test,rfc_predict))\n",
    "\n",
    "\n",
    "\n"
   ]
  },
  {
   "cell_type": "code",
   "execution_count": 35,
   "metadata": {
    "colab": {
     "base_uri": "https://localhost:8080/",
     "height": 329
    },
    "colab_type": "code",
    "executionInfo": {
     "elapsed": 25530,
     "status": "ok",
     "timestamp": 1572846261171,
     "user": {
      "displayName": "Ishani Udaykant Shah",
      "photoUrl": "",
      "userId": "12064188275187263360"
     },
     "user_tz": 420
    },
    "id": "XmjNHxphTVza",
    "outputId": "c7645663-fe30-4fd6-ab40-cf07debbac32"
   },
   "outputs": [
    {
     "name": "stdout",
     "output_type": "stream",
     "text": [
      "{'n_estimators': 40, 'min_samples_leaf': 40, 'max_features': 30, 'max_depth': 13}\n",
      "accuracy Score (testing) after hypertuning for Random Forest:0.937761\n",
      "Confusion Matrix after hypertuning for Random Forest:\n",
      "[[12012   408]\n",
      " [  396   102]]\n",
      "=== Classification Report ===\n",
      "              precision    recall  f1-score   support\n",
      "\n",
      "          No       0.97      0.97      0.97     12420\n",
      "         Yes       0.20      0.20      0.20       498\n",
      "\n",
      "    accuracy                           0.94     12918\n",
      "   macro avg       0.58      0.59      0.58     12918\n",
      "weighted avg       0.94      0.94      0.94     12918\n",
      "\n",
      "[0.867      0.878      0.87387387]\n",
      "\n",
      "\n"
     ]
    }
   ],
   "source": [
    "#RANDOMIZED SEARCH for Random Forest----------------------------------------\n",
    "rfc_random = RandomizedSearchCV(rfc,rand_parameters,n_iter=20,cv=10)\n",
    "rfc_random.fit(X_train, y_train)\n",
    "grid_parm_rfc=rfc_random.best_params_\n",
    "print(grid_parm_rfc)\n",
    "rfc= RandomForestClassifier(**grid_parm_rfc)\n",
    "rfc.fit(X_train,y_train)\n",
    "rfc_predict = rfc.predict(X_test)\n",
    "print(\"accuracy Score (testing) after hypertuning for Random Forest:{0:6f}\".format(rfc.score(X_test,y_test)))\n",
    "print(\"Confusion Matrix after hypertuning for Random Forest:\")\n",
    "print(confusion_matrix(y_test,rfc_predict))\n",
    "print(\"=== Classification Report ===\")\n",
    "print(classification_report(y_test,rfc_predict))\n",
    "rfc_cv_score = cross_val_score(rfc, X_train, y_train)\n",
    "print(rfc_cv_score)\n",
    "print('\\n')\n"
   ]
  },
  {
   "cell_type": "code",
   "execution_count": 36,
   "metadata": {
    "colab": {
     "base_uri": "https://localhost:8080/",
     "height": 329
    },
    "colab_type": "code",
    "executionInfo": {
     "elapsed": 1445523,
     "status": "ok",
     "timestamp": 1572847710867,
     "user": {
      "displayName": "Ishani Udaykant Shah",
      "photoUrl": "",
      "userId": "12064188275187263360"
     },
     "user_tz": 420
    },
    "id": "GIWOJE8irK4N",
    "outputId": "84fe413a-7a56-4ace-b5dc-af415b7bcd3c"
   },
   "outputs": [
    {
     "name": "stdout",
     "output_type": "stream",
     "text": [
      "{'max_depth': 5, 'max_features': 90, 'min_samples_leaf': 30, 'n_estimators': 40}\n",
      "accuracy Score (testing) after Grid hypertuning for Random Forest:0.925066\n",
      "Confusion Matrix after Grid hypertuning for Random Forest (Testing):\n",
      "[[11824   596]\n",
      " [  372   126]]\n",
      "=== Classification Report after Grid hypertuning for Random Forest (Testing) ===\n",
      "              precision    recall  f1-score   support\n",
      "\n",
      "          No       0.97      0.95      0.96     12420\n",
      "         Yes       0.17      0.25      0.21       498\n",
      "\n",
      "    accuracy                           0.93     12918\n",
      "   macro avg       0.57      0.60      0.58     12918\n",
      "weighted avg       0.94      0.93      0.93     12918\n",
      "\n",
      "[0.866      0.886      0.87687688]\n",
      "\n",
      "\n"
     ]
    }
   ],
   "source": [
    "#GRID SEARCH for RANDOM FOREST----------------------------------------\n",
    "rfc_grid = GridSearchCV(rfc,rand_parameters)\n",
    "rfc_grid.fit(X_train, y_train)\n",
    "grid_parm_rfc=rfc_grid.best_params_\n",
    "print(grid_parm_rfc)\n",
    "rfc= RandomForestClassifier(**grid_parm_rfc)\n",
    "rfc.fit(X_train,y_train)\n",
    "rfc_predict = rfc.predict(X_test)\n",
    "print(\"accuracy Score (testing) after Grid hypertuning for Random Forest:{0:6f}\".format(rfc.score(X_test,y_test)))\n",
    "print(\"Confusion Matrix after Grid hypertuning for Random Forest (Testing):\")\n",
    "print(confusion_matrix(y_test,rfc_predict))\n",
    "print(\"=== Classification Report after Grid hypertuning for Random Forest (Testing) ===\")\n",
    "print(classification_report(y_test,rfc_predict))\n",
    "rfc_cv_score = cross_val_score(rfc, X_train, y_train)\n",
    "print(rfc_cv_score)\n",
    "print('\\n')"
   ]
  }
 ],
 "metadata": {
  "accelerator": "GPU",
  "colab": {
   "collapsed_sections": [],
   "name": "Assignment_2_FraudDetection.ipynb",
   "provenance": []
  },
  "kernelspec": {
   "display_name": "Python 3",
   "language": "python",
   "name": "python3"
  },
  "language_info": {
   "codemirror_mode": {
    "name": "ipython",
    "version": 3
   },
   "file_extension": ".py",
   "mimetype": "text/x-python",
   "name": "python",
   "nbconvert_exporter": "python",
   "pygments_lexer": "ipython3",
   "version": "3.7.4"
  }
 },
 "nbformat": 4,
 "nbformat_minor": 1
}
